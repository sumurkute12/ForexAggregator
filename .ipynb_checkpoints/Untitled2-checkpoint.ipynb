{
 "cells": [
  {
   "cell_type": "code",
   "execution_count": 37,
   "metadata": {},
   "outputs": [],
   "source": [
    "\n",
    "# importing libraries\n",
    "import numpy as np      \n",
    "import pandas as pd\n",
    "from matplotlib import pyplot as plt\n",
    "\n",
    "\n",
    "from sklearn.metrics import confusion_matrix\n",
    "from sklearn.metrics import accuracy_score\n",
    "from sklearn.impute import SimpleImputer\n",
    "from sklearn.preprocessing import LabelEncoder\n",
    "from sklearn.model_selection import train_test_split\n",
    "from sklearn.ensemble import RandomForestRegressor"
   ]
  },
  {
   "cell_type": "code",
   "execution_count": 38,
   "metadata": {},
   "outputs": [],
   "source": [
    "\n",
    "# importing dataset\n",
    "url = \"C:/Users/Swapnil/Desktop/WU/New folder/d1b.csv\"\n",
    "dataset = pd.read_csv(url)\n",
    "x = dataset.iloc[:,:-1].values\n",
    "y = dataset.iloc[:,-1].values"
   ]
  },
  {
   "cell_type": "code",
   "execution_count": 57,
   "metadata": {},
   "outputs": [
    {
     "name": "stdout",
     "output_type": "stream",
     "text": [
      "[0 0 10 1.1015 1.1015 1.1015 1.1015]\n"
     ]
    }
   ],
   "source": [
    "le1 = LabelEncoder()\n",
    "le2 = LabelEncoder()\n",
    "le3 = LabelEncoder()\n",
    "\n",
    "x[:,0] = le1.fit_transform(x[:,0])\n",
    "x[:,1] = le2.fit_transform(x[:,1])\n",
    "x[:,2] = le3.fit_transform(x[:,2])\n",
    "print(x[0])\n"
   ]
  },
  {
   "cell_type": "code",
   "execution_count": 58,
   "metadata": {},
   "outputs": [
    {
     "name": "stdout",
     "output_type": "stream",
     "text": [
      "[[0 0 10 ... 1.1015 1.1015 1.1015]\n",
      " [0 0 21 ... 1.10784 1.10029 1.10907]\n",
      " [0 0 32 ... 1.10809 1.1066 1.10934]\n",
      " ...\n",
      " [0 0 229 ... 1.18598 1.1820899999999999 1.1880700000000002]\n",
      " [0 0 240 ... 1.18177 1.1811399999999999 1.18668]\n",
      " [0 0 251 ... 1.18572 1.17866 1.18648]]\n"
     ]
    }
   ],
   "source": [
    "#print no of hours\n",
    "print (x)"
   ]
  },
  {
   "cell_type": "code",
   "execution_count": 59,
   "metadata": {},
   "outputs": [
    {
     "name": "stdout",
     "output_type": "stream",
     "text": [
      "[1.1015    1.1048725 1.1079625 1.1085275 1.109165  1.1077    1.10543\n",
      " 1.10543   1.1063175 1.1079    1.1108925 1.112875  1.113715  1.11174\n",
      " 1.11174   1.1138025 1.1148975 1.11314   1.1120975 1.1096825 1.10769\n",
      " 1.10769   1.108405  1.108505  1.10828   1.10942   1.1138325 1.11713\n",
      " 1.11713   1.119115  1.121065  1.12076   1.1193625 1.1157925 1.11548\n",
      " 1.11548   1.118125  1.11699   1.1132    1.11058   1.1108925 1.11165\n",
      " 1.11165   1.1126825 1.1127525 1.113995  1.11464   1.1113375 1.1089\n",
      " 1.1089    1.1091075 1.1093525 1.10855   1.1072775 1.103945  1.10224\n",
      " 1.10224   1.1024325 1.1015875 1.10129   1.1021775 1.105945  1.10944\n",
      " 1.10944   1.1070675 1.1049825 1.1021025 1.098995  1.0963325 1.09438\n",
      " 1.09438   1.092985  1.0910225 1.08944   1.085855  1.0839725 1.08299\n",
      " 1.08299   1.0838775 1.0811925 1.0796625 1.0796225 1.0819425 1.08456\n",
      " 1.08456   1.083585  1.0863175 1.088135  1.0941075 1.10072   1.10251\n",
      " 1.10251   1.1099025 1.115325  1.1146825 1.1183275 1.1270575 1.12804\n",
      " 1.12804   1.1404175 1.136015  1.12931   1.12104   1.1140075 1.10992\n",
      " 1.10992   1.11399   1.10808   1.093895  1.0809975 1.071315  1.06929\n",
      " 1.06929   1.072215  1.0779425 1.083025  1.0959975 1.1067075 1.11379\n",
      " 1.11379   1.1078475 1.10134   1.098295  1.090175  1.08221   1.07955\n",
      " 1.07955   1.0800975 1.084805  1.0869625 1.0894225 1.09332   1.09326\n",
      " 1.09326   1.093015  1.0945175 1.0933275 1.0868475 1.085355  1.08711\n",
      " 1.08711   1.0868325 1.085355  1.08419   1.08003   1.0788025 1.08196\n",
      " 1.08196   1.0830275 1.0836225 1.0848725 1.09084   1.0971175 1.09777\n",
      " 1.09777   1.093565  1.08739   1.081455  1.0806725 1.084045  1.08371\n",
      " 1.08371   1.0820875 1.0830625 1.08433   1.0805075 1.081555  1.08183\n",
      " 1.08183   1.0862775 1.09289   1.0954125 1.0967675 1.0920975 1.0898\n",
      " 1.0898    1.08939   1.094105  1.0987125 1.1041025 1.10988   1.11036\n",
      " 1.11036   1.112565  1.11539   1.120655  1.1281625 1.132245  1.12911\n",
      " 1.12911   1.1293775 1.130945  1.1364175 1.1340975 1.1276725 1.1255\n",
      " 1.1255    1.1278575 1.1291725 1.12517   1.122375  1.1200875 1.11759\n",
      " 1.11759   1.122035  1.1287175 1.1282875 1.1229325 1.1217375 1.1217\n",
      " 1.1217    1.1239675 1.1231925 1.123615  1.125385  1.1239125 1.12464\n",
      " 1.12464   1.1284675 1.1293175 1.1303975 1.1316125 1.1290725 1.1299\n",
      " 1.1299    1.133075  1.1369025 1.1413325 1.14017   1.1407325 1.14269\n",
      " 1.14269   1.14314   1.1484075 1.15511   1.1583075 1.1622425 1.16546\n",
      " 1.16546   1.170415  1.1734625 1.175585  1.1804175 1.182305  1.17753\n",
      " 1.17753   1.1756675 1.1773275 1.18408   1.1868225 1.18251   1.17862\n",
      " 1.17862   1.176555  1.1751675 1.176275  1.1810075 1.18215   1.18414\n",
      " 1.18414   1.185455  1.1907925 1.1887975 1.18425   1.1822925 1.17949\n",
      " 1.17949   1.1803    1.181225  1.181875  1.1828825 1.1863475 1.19018\n",
      " 1.19018   1.1921475 1.1939925 1.1879175 1.1838825 1.1833675 1.18371\n",
      " 1.18371   1.18292   1.1794925 1.1791    1.1833775 1.1836725 1.18453\n",
      " 1.18453   1.185475  1.186275  1.1833025 1.181325  1.184565  1.18385\n",
      " 1.18385   1.180275  1.1735875 1.168425  1.16608   1.164885  1.16277\n",
      " 1.16277   1.164675  1.1703625 1.1725875 1.1738425 1.1727275 1.17157\n",
      " 1.17157   1.1749075 1.1763825 1.175015  1.17581   1.1792825 1.18248\n",
      " 1.18248   1.18089   1.1775475 1.1745325 1.1724675 1.171515  1.17132\n",
      " 1.17132   1.1746075 1.1797775 1.18457   1.18382   1.1831575]\n"
     ]
    }
   ],
   "source": [
    "#print score\n",
    "print (y)"
   ]
  },
  {
   "cell_type": "code",
   "execution_count": 60,
   "metadata": {},
   "outputs": [],
   "source": [
    "#training and test dataset\n",
    "from sklearn.model_selection import train_test_split\n",
    "x_train,x_test,y_train,y_test = train_test_split(x,y,test_size=0.2,random_state=1)"
   ]
  },
  {
   "cell_type": "code",
   "execution_count": 61,
   "metadata": {},
   "outputs": [
    {
     "data": {
      "text/plain": [
       "array([[0, 0, 164, ..., 1.11174, 1.11174, 1.11174],\n",
       "       [0, 0, 240, ..., 1.18177, 1.1811399999999999, 1.18668],\n",
       "       [0, 0, 46, ..., 1.12361, 1.11195, 1.12447],\n",
       "       ...,\n",
       "       [0, 0, 111, ..., 1.09143, 1.08913, 1.09248],\n",
       "       [0, 0, 248, ..., 1.15959, 1.15403, 1.16268],\n",
       "       [0, 0, 66, ..., 1.1152600000000001, 1.11335, 1.11975]],\n",
       "      dtype=object)"
      ]
     },
     "execution_count": 61,
     "metadata": {},
     "output_type": "execute_result"
    }
   ],
   "source": [
    "x_train\n"
   ]
  },
  {
   "cell_type": "code",
   "execution_count": 62,
   "metadata": {},
   "outputs": [
    {
     "data": {
      "text/plain": [
       "array([1.1015875, 1.1907925, 1.1838825, 1.133075 , 1.1078475, 1.0898   ,\n",
       "       1.1041025, 1.18457  , 1.14314  , 1.18248  , 1.109165 , 1.07955  ,\n",
       "       1.164675 , 1.08196  , 1.10251  , 1.11399  , 1.10072  , 1.10543  ,\n",
       "       1.12911  , 1.18414  , 1.1756675, 1.0830625, 1.184565 , 1.122035 ,\n",
       "       1.1120975, 1.1703625, 1.112875 , 1.1099025, 1.18385  , 1.1217375,\n",
       "       1.09777  , 1.10129  , 1.10251  , 1.10808  , 1.12104  , 1.083585 ,\n",
       "       1.14269  , 1.1239675, 1.0954125, 1.186275 , 1.08711  , 1.113715 ,\n",
       "       1.11713  , 1.084045 , 1.1831575, 1.18251  , 1.119115 , 1.17157  ,\n",
       "       1.06929  , 1.09326  , 1.0796625, 1.1413325, 1.1745325, 1.1792825,\n",
       "       1.0800975, 1.1775475, 1.0898   , 1.1049825, 1.08944  , 1.1804175,\n",
       "       1.12911  , 1.18385  , 1.115325 , 1.1791   , 1.0967675, 1.10992  ])"
      ]
     },
     "execution_count": 62,
     "metadata": {},
     "output_type": "execute_result"
    }
   ],
   "source": [
    "y_test\n"
   ]
  },
  {
   "cell_type": "code",
   "execution_count": 64,
   "metadata": {},
   "outputs": [
    {
     "data": {
      "text/plain": [
       "LinearRegression(copy_X=True, fit_intercept=True, n_jobs=None, normalize=False)"
      ]
     },
     "execution_count": 64,
     "metadata": {},
     "output_type": "execute_result"
    }
   ],
   "source": [
    "from sklearn.linear_model import LinearRegression\n",
    "regressor = LinearRegression()\n",
    "regressor.fit(x_train,y_train)"
   ]
  },
  {
   "cell_type": "code",
   "execution_count": 66,
   "metadata": {},
   "outputs": [
    {
     "data": {
      "text/plain": [
       "array([1.1015875, 1.1907925, 1.1838825, 1.133075 , 1.1078475, 1.0898   ,\n",
       "       1.1041025, 1.18457  , 1.14314  , 1.18248  , 1.109165 , 1.07955  ,\n",
       "       1.164675 , 1.08196  , 1.10251  , 1.11399  , 1.10072  , 1.10543  ,\n",
       "       1.12911  , 1.18414  , 1.1756675, 1.0830625, 1.184565 , 1.122035 ,\n",
       "       1.1120975, 1.1703625, 1.112875 , 1.1099025, 1.18385  , 1.1217375,\n",
       "       1.09777  , 1.10129  , 1.10251  , 1.10808  , 1.12104  , 1.083585 ,\n",
       "       1.14269  , 1.1239675, 1.0954125, 1.186275 , 1.08711  , 1.113715 ,\n",
       "       1.11713  , 1.084045 , 1.1831575, 1.18251  , 1.119115 , 1.17157  ,\n",
       "       1.06929  , 1.09326  , 1.0796625, 1.1413325, 1.1745325, 1.1792825,\n",
       "       1.0800975, 1.1775475, 1.0898   , 1.1049825, 1.08944  , 1.1804175,\n",
       "       1.12911  , 1.18385  , 1.115325 , 1.1791   , 1.0967675, 1.10992  ])"
      ]
     },
     "execution_count": 66,
     "metadata": {},
     "output_type": "execute_result"
    }
   ],
   "source": [
    "#lets predict for these data\n",
    "y_pred = regressor.predict(x_test)\n",
    "y_pred"
   ]
  },
  {
   "cell_type": "code",
   "execution_count": 67,
   "metadata": {},
   "outputs": [
    {
     "data": {
      "text/html": [
       "<div>\n",
       "<style scoped>\n",
       "    .dataframe tbody tr th:only-of-type {\n",
       "        vertical-align: middle;\n",
       "    }\n",
       "\n",
       "    .dataframe tbody tr th {\n",
       "        vertical-align: top;\n",
       "    }\n",
       "\n",
       "    .dataframe thead th {\n",
       "        text-align: right;\n",
       "    }\n",
       "</style>\n",
       "<table border=\"1\" class=\"dataframe\">\n",
       "  <thead>\n",
       "    <tr style=\"text-align: right;\">\n",
       "      <th></th>\n",
       "      <th>Y_TEST</th>\n",
       "      <th>Y_PRED</th>\n",
       "    </tr>\n",
       "  </thead>\n",
       "  <tbody>\n",
       "    <tr>\n",
       "      <th>0</th>\n",
       "      <td>1.101587</td>\n",
       "      <td>1.101588</td>\n",
       "    </tr>\n",
       "    <tr>\n",
       "      <th>1</th>\n",
       "      <td>1.190792</td>\n",
       "      <td>1.190793</td>\n",
       "    </tr>\n",
       "    <tr>\n",
       "      <th>2</th>\n",
       "      <td>1.183883</td>\n",
       "      <td>1.183882</td>\n",
       "    </tr>\n",
       "    <tr>\n",
       "      <th>3</th>\n",
       "      <td>1.133075</td>\n",
       "      <td>1.133075</td>\n",
       "    </tr>\n",
       "    <tr>\n",
       "      <th>4</th>\n",
       "      <td>1.107848</td>\n",
       "      <td>1.107848</td>\n",
       "    </tr>\n",
       "    <tr>\n",
       "      <th>...</th>\n",
       "      <td>...</td>\n",
       "      <td>...</td>\n",
       "    </tr>\n",
       "    <tr>\n",
       "      <th>61</th>\n",
       "      <td>1.183850</td>\n",
       "      <td>1.183850</td>\n",
       "    </tr>\n",
       "    <tr>\n",
       "      <th>62</th>\n",
       "      <td>1.115325</td>\n",
       "      <td>1.115325</td>\n",
       "    </tr>\n",
       "    <tr>\n",
       "      <th>63</th>\n",
       "      <td>1.179100</td>\n",
       "      <td>1.179100</td>\n",
       "    </tr>\n",
       "    <tr>\n",
       "      <th>64</th>\n",
       "      <td>1.096767</td>\n",
       "      <td>1.096768</td>\n",
       "    </tr>\n",
       "    <tr>\n",
       "      <th>65</th>\n",
       "      <td>1.109920</td>\n",
       "      <td>1.109920</td>\n",
       "    </tr>\n",
       "  </tbody>\n",
       "</table>\n",
       "<p>66 rows × 2 columns</p>\n",
       "</div>"
      ],
      "text/plain": [
       "      Y_TEST    Y_PRED\n",
       "0   1.101587  1.101588\n",
       "1   1.190792  1.190793\n",
       "2   1.183883  1.183882\n",
       "3   1.133075  1.133075\n",
       "4   1.107848  1.107848\n",
       "..       ...       ...\n",
       "61  1.183850  1.183850\n",
       "62  1.115325  1.115325\n",
       "63  1.179100  1.179100\n",
       "64  1.096767  1.096768\n",
       "65  1.109920  1.109920\n",
       "\n",
       "[66 rows x 2 columns]"
      ]
     },
     "execution_count": 67,
     "metadata": {},
     "output_type": "execute_result"
    }
   ],
   "source": [
    "#Compare result\n",
    "comp = pd.DataFrame({\"Y_TEST\":y_test,\"Y_PRED\":y_pred})\n",
    "comp"
   ]
  },
  {
   "cell_type": "code",
   "execution_count": 69,
   "metadata": {},
   "outputs": [
    {
     "ename": "ValueError",
     "evalue": "x and y must be the same size",
     "output_type": "error",
     "traceback": [
      "\u001b[1;31m---------------------------------------------------------------------------\u001b[0m",
      "\u001b[1;31mValueError\u001b[0m                                Traceback (most recent call last)",
      "\u001b[1;32m<ipython-input-69-e920400f6dd5>\u001b[0m in \u001b[0;36m<module>\u001b[1;34m\u001b[0m\n\u001b[0;32m      1\u001b[0m \u001b[1;31m#THIS IS VISUALISING OF DATASET WE TRAINED\u001b[0m\u001b[1;33m\u001b[0m\u001b[1;33m\u001b[0m\u001b[1;33m\u001b[0m\u001b[0m\n\u001b[1;32m----> 2\u001b[1;33m \u001b[0mplt\u001b[0m\u001b[1;33m.\u001b[0m\u001b[0mscatter\u001b[0m\u001b[1;33m(\u001b[0m\u001b[0mx_train\u001b[0m\u001b[1;33m,\u001b[0m\u001b[0my_train\u001b[0m\u001b[1;33m,\u001b[0m\u001b[0mcolor\u001b[0m \u001b[1;33m=\u001b[0m \u001b[1;34m\"green\"\u001b[0m\u001b[1;33m,\u001b[0m\u001b[0mmarker\u001b[0m\u001b[1;33m=\u001b[0m\u001b[1;34m\"^\"\u001b[0m\u001b[1;33m)\u001b[0m\u001b[1;33m\u001b[0m\u001b[1;33m\u001b[0m\u001b[0m\n\u001b[0m",
      "\u001b[1;32m~\\.conda\\envs\\tensorflow\\lib\\site-packages\\matplotlib\\pyplot.py\u001b[0m in \u001b[0;36mscatter\u001b[1;34m(x, y, s, c, marker, cmap, norm, vmin, vmax, alpha, linewidths, verts, edgecolors, plotnonfinite, data, **kwargs)\u001b[0m\n\u001b[0;32m   2846\u001b[0m         \u001b[0mverts\u001b[0m\u001b[1;33m=\u001b[0m\u001b[0mverts\u001b[0m\u001b[1;33m,\u001b[0m \u001b[0medgecolors\u001b[0m\u001b[1;33m=\u001b[0m\u001b[0medgecolors\u001b[0m\u001b[1;33m,\u001b[0m\u001b[1;33m\u001b[0m\u001b[1;33m\u001b[0m\u001b[0m\n\u001b[0;32m   2847\u001b[0m         plotnonfinite=plotnonfinite, **({\"data\": data} if data is not\n\u001b[1;32m-> 2848\u001b[1;33m         None else {}), **kwargs)\n\u001b[0m\u001b[0;32m   2849\u001b[0m     \u001b[0msci\u001b[0m\u001b[1;33m(\u001b[0m\u001b[0m__ret\u001b[0m\u001b[1;33m)\u001b[0m\u001b[1;33m\u001b[0m\u001b[1;33m\u001b[0m\u001b[0m\n\u001b[0;32m   2850\u001b[0m     \u001b[1;32mreturn\u001b[0m \u001b[0m__ret\u001b[0m\u001b[1;33m\u001b[0m\u001b[1;33m\u001b[0m\u001b[0m\n",
      "\u001b[1;32m~\\.conda\\envs\\tensorflow\\lib\\site-packages\\matplotlib\\__init__.py\u001b[0m in \u001b[0;36minner\u001b[1;34m(ax, data, *args, **kwargs)\u001b[0m\n\u001b[0;32m   1597\u001b[0m     \u001b[1;32mdef\u001b[0m \u001b[0minner\u001b[0m\u001b[1;33m(\u001b[0m\u001b[0max\u001b[0m\u001b[1;33m,\u001b[0m \u001b[1;33m*\u001b[0m\u001b[0margs\u001b[0m\u001b[1;33m,\u001b[0m \u001b[0mdata\u001b[0m\u001b[1;33m=\u001b[0m\u001b[1;32mNone\u001b[0m\u001b[1;33m,\u001b[0m \u001b[1;33m**\u001b[0m\u001b[0mkwargs\u001b[0m\u001b[1;33m)\u001b[0m\u001b[1;33m:\u001b[0m\u001b[1;33m\u001b[0m\u001b[1;33m\u001b[0m\u001b[0m\n\u001b[0;32m   1598\u001b[0m         \u001b[1;32mif\u001b[0m \u001b[0mdata\u001b[0m \u001b[1;32mis\u001b[0m \u001b[1;32mNone\u001b[0m\u001b[1;33m:\u001b[0m\u001b[1;33m\u001b[0m\u001b[1;33m\u001b[0m\u001b[0m\n\u001b[1;32m-> 1599\u001b[1;33m             \u001b[1;32mreturn\u001b[0m \u001b[0mfunc\u001b[0m\u001b[1;33m(\u001b[0m\u001b[0max\u001b[0m\u001b[1;33m,\u001b[0m \u001b[1;33m*\u001b[0m\u001b[0mmap\u001b[0m\u001b[1;33m(\u001b[0m\u001b[0msanitize_sequence\u001b[0m\u001b[1;33m,\u001b[0m \u001b[0margs\u001b[0m\u001b[1;33m)\u001b[0m\u001b[1;33m,\u001b[0m \u001b[1;33m**\u001b[0m\u001b[0mkwargs\u001b[0m\u001b[1;33m)\u001b[0m\u001b[1;33m\u001b[0m\u001b[1;33m\u001b[0m\u001b[0m\n\u001b[0m\u001b[0;32m   1600\u001b[0m \u001b[1;33m\u001b[0m\u001b[0m\n\u001b[0;32m   1601\u001b[0m         \u001b[0mbound\u001b[0m \u001b[1;33m=\u001b[0m \u001b[0mnew_sig\u001b[0m\u001b[1;33m.\u001b[0m\u001b[0mbind\u001b[0m\u001b[1;33m(\u001b[0m\u001b[0max\u001b[0m\u001b[1;33m,\u001b[0m \u001b[1;33m*\u001b[0m\u001b[0margs\u001b[0m\u001b[1;33m,\u001b[0m \u001b[1;33m**\u001b[0m\u001b[0mkwargs\u001b[0m\u001b[1;33m)\u001b[0m\u001b[1;33m\u001b[0m\u001b[1;33m\u001b[0m\u001b[0m\n",
      "\u001b[1;32m~\\.conda\\envs\\tensorflow\\lib\\site-packages\\matplotlib\\axes\\_axes.py\u001b[0m in \u001b[0;36mscatter\u001b[1;34m(self, x, y, s, c, marker, cmap, norm, vmin, vmax, alpha, linewidths, verts, edgecolors, plotnonfinite, **kwargs)\u001b[0m\n\u001b[0;32m   4441\u001b[0m         \u001b[0my\u001b[0m \u001b[1;33m=\u001b[0m \u001b[0mnp\u001b[0m\u001b[1;33m.\u001b[0m\u001b[0mma\u001b[0m\u001b[1;33m.\u001b[0m\u001b[0mravel\u001b[0m\u001b[1;33m(\u001b[0m\u001b[0my\u001b[0m\u001b[1;33m)\u001b[0m\u001b[1;33m\u001b[0m\u001b[1;33m\u001b[0m\u001b[0m\n\u001b[0;32m   4442\u001b[0m         \u001b[1;32mif\u001b[0m \u001b[0mx\u001b[0m\u001b[1;33m.\u001b[0m\u001b[0msize\u001b[0m \u001b[1;33m!=\u001b[0m \u001b[0my\u001b[0m\u001b[1;33m.\u001b[0m\u001b[0msize\u001b[0m\u001b[1;33m:\u001b[0m\u001b[1;33m\u001b[0m\u001b[1;33m\u001b[0m\u001b[0m\n\u001b[1;32m-> 4443\u001b[1;33m             \u001b[1;32mraise\u001b[0m \u001b[0mValueError\u001b[0m\u001b[1;33m(\u001b[0m\u001b[1;34m\"x and y must be the same size\"\u001b[0m\u001b[1;33m)\u001b[0m\u001b[1;33m\u001b[0m\u001b[1;33m\u001b[0m\u001b[0m\n\u001b[0m\u001b[0;32m   4444\u001b[0m \u001b[1;33m\u001b[0m\u001b[0m\n\u001b[0;32m   4445\u001b[0m         \u001b[1;32mif\u001b[0m \u001b[0ms\u001b[0m \u001b[1;32mis\u001b[0m \u001b[1;32mNone\u001b[0m\u001b[1;33m:\u001b[0m\u001b[1;33m\u001b[0m\u001b[1;33m\u001b[0m\u001b[0m\n",
      "\u001b[1;31mValueError\u001b[0m: x and y must be the same size"
     ]
    },
    {
     "data": {
      "image/png": "[encoded data removed]",
      "text/plain": [
       "<Figure size 432x288 with 1 Axes>"
      ]
     },
     "metadata": {
      "needs_background": "light"
     },
     "output_type": "display_data"
    }
   ],
   "source": [
    "#THIS IS VISUALISING OF DATASET WE TRAINED\n",
    "plt.scatter(x_train,y_train,color = \"green\",marker=\"^\")\n",
    "plt.plot(x_train,regressor.predict(x_train),color=\"blue\")\n",
    "plt.title(\"Salary vs Experience Model\")\n",
    "plt.xlabel(\"X\")\n",
    "plt.ylabel(\"Y\")\n",
    "plt.show"
   ]
  }
 ],
 "metadata": {
  "kernelspec": {
   "display_name": "Python 3",
   "language": "python",
   "name": "python3"
  },
  "language_info": {
   "codemirror_mode": {
    "name": "ipython",
    "version": 3
   },
   "file_extension": ".py",
   "mimetype": "text/x-python",
   "name": "python",
   "nbconvert_exporter": "python",
   "pygments_lexer": "ipython3",
   "version": "3.7.7"
  }
 },
 "nbformat": 4,
 "nbformat_minor": 4
}
