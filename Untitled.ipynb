{
 "cells": [
  {
   "cell_type": "code",
   "execution_count": 19,
   "metadata": {},
   "outputs": [
    {
     "name": "stdout",
     "output_type": "stream",
     "text": [
      "                 Broker  Rating  Foundation_Year MINIMUM Deposite  \\\n",
      "0              PLUS 500     4.1             2008         $100.00    \n",
      "1                  FXTM     4.2             2011          $10.00    \n",
      "2                   XTB     4.8             2002           $0.00    \n",
      "3             IC Market     3.9             2007         $200.00    \n",
      "4               OCTA FX     4.3             2011          $50.00    \n",
      "5           ROBO Market     3.9             2012         $100.00    \n",
      "6            CMC Market     4.3             1989           $0.00    \n",
      "7  London Capital Group     4.5             1996           $0.00    \n",
      "8                  SAXO     4.6             1992      $10,000.00    \n",
      "9           PapperStone     4.4             2010         $200.00    \n",
      "\n",
      "                                                 URL  \n",
      "0  https://www.plus500.com/?id=27689&tags=Plus500...  \n",
      "1       https://ad.doubleclick.net/ddm/clk/447901603  \n",
      "2  http://xtb.ck-cdn.com/tn/serve/geoGroup/?rgid=...  \n",
      "3           https://www.icmarkets.com/en/?camp=22749  \n",
      "4       http://octaengine.com/c/?p=805&bt=gif&b=2368  \n",
      "5  https://my.robomarkets.com/en/register/?utm_so...  \n",
      "6  https://www.cmcmarkets.com/en/?dd_pm=none&dd_p...  \n",
      "7  https://www.lcg.com/int/?dd_pm=none&dd_pm_cat=...  \n",
      "8  https://www.home.saxo/en-gb?dd_pm=none&dd_pm_c...  \n",
      "9  https://pepperstone.com/en/?dd_pm=none&dd_pm_c...  \n"
     ]
    }
   ],
   "source": [
    "import pandas as pd\n",
    "#import numpy as np\n",
    "from matplotlib import rcParams\n",
    "import matplotlib.pyplot as plt\n",
    "\n",
    "AUD_USD = pd.read_csv(\"C:/Users/Swapnil/Desktop/Deployment-flask-master - Copy/AUD_USD_Final.csv\")\n",
    "EUR_USD = pd.read_csv(\"C:/Users/Swapnil/Desktop/Deployment-flask-master - Copy/EUR_USD_Final.csv\")\n",
    "GBP_USD = pd.read_csv(\"C:/Users/Swapnil/Desktop/Deployment-flask-master - Copy/GBP_USD_Final.csv\")\n",
    "USD_CAD = pd.read_csv(\"C:/Users/Swapnil/Desktop/Deployment-flask-master - Copy/USD_CAD_Final.csv\")\n",
    "USD_JPY = pd.read_csv(\"C:/Users/Swapnil/Desktop/Deployment-flask-master - Copy/USD_JPY_Final.csv\")\n",
    "Broker_Info = pd.read_csv(\"C:/Users/Swapnil/Desktop/Deployment-flask-master - Copy/Broker_Info.csv\")\n",
    "AUD_USD.Date = pd.to_datetime(AUD_USD.Date)\n",
    "EUR_USD.Date = pd.to_datetime(EUR_USD.Date)\n",
    "GBP_USD.Date = pd.to_datetime(GBP_USD.Date)\n",
    "USD_CAD.Date = pd.to_datetime(USD_CAD.Date)\n",
    "USD_JPY.Date = pd.to_datetime(USD_JPY.Date)\n",
    "\n",
    "# print(Broker_Info)\n"
   ]
  },
  {
   "cell_type": "code",
   "execution_count": 20,
   "metadata": {},
   "outputs": [],
   "source": [
    "\n",
    "base = \"EUR\" #input(\"Base: \")\n",
    "target = \"USD\" #input(\"Target: \")\n",
    "Date = \"2020-11-11\" #input(\"Date: \")\n",
    "\n",
    "from datetime import date, timedelta\n",
    "dt = pd.to_datetime(Date) - timedelta(365)\n",
    "\n",
    "if(base == \"AUD\" and target == \"USD\"):\n",
    "  temp = pd.DataFrame(data = AUD_USD[AUD_USD[\"Date\"]==Date])\n",
    "  temp1 = AUD_USD[AUD_USD[\"Date\"].between(dt, Date)]\n",
    "elif(base == \"EUR\" and target == \"USD\"):\n",
    "   temp = pd.DataFrame(data = EUR_USD[EUR_USD[\"Date\"]==Date])\n",
    "   temp1 = EUR_USD[EUR_USD[\"Date\"].between(dt, Date)]\n",
    "elif(base == \"GBP\" and target == \"USD\"):\n",
    "   temp = pd.DataFrame(data = GBP_USD[GBP_USD[\"Date\"]==Date])\n",
    "   temp1 = GBP_USD[GBP_USD[\"Date\"].between(dt, Date)]\n",
    "elif(base == \"USD\" and target == \"CAD\"):\n",
    "   temp = pd.DataFrame(data = USD_CAD[USD_CAD[\"Date\"]==Date])\n",
    "   temp1 = USD_CAD[USD_CAD[\"Date\"].between(dt, Date)]\n",
    "else:\n",
    "   temp = pd.DataFrame(data = USD_JPY[USD_JPY[\"Date\"]==Date])\n",
    "   temp1 = USD_JPY[USD_JPY[\"Date\"].between(dt, Date)]\n",
    "\n",
    "temp1 = temp1[[\"Date\", \"Average_Bid\", \"Average_Ask\", \"Broker\"]]\n",
    "temp1 = temp1.set_index(\"Date\")\n",
    "# temp1\n",
    "\n",
    "\n"
   ]
  },
  {
   "cell_type": "code",
   "execution_count": 21,
   "metadata": {},
   "outputs": [],
   "source": [
    "\n",
    "PLUS_500 = pd.DataFrame(data =temp1[temp1[\"Broker\"]==\"PLUS 500\"])\n",
    "CMC_Market = pd.DataFrame(data =temp1[temp1[\"Broker\"]==\"CMC Market\"])\n",
    "LCG = pd.DataFrame(data =temp1[temp1[\"Broker\"]==\"London Capital Group\"])\n",
    "SAXO = pd.DataFrame(data =temp1[temp1[\"Broker\"]==\"SAXO\"])\n",
    "FXTM = pd.DataFrame(data =temp1[temp1[\"Broker\"]==\"FXTM\"])\n",
    "PapperStone = pd.DataFrame(data =temp1[temp1[\"Broker\"]==\"PapperStone\"])\n",
    "XTB = pd.DataFrame(data =temp1[temp1[\"Broker\"]==\"XTB\"])\n",
    "IC_Market = pd.DataFrame(data =temp1[temp1[\"Broker\"]==\"IC Market\"])\n",
    "OCTA_FX = pd.DataFrame(data =temp1[temp1[\"Broker\"]==\"OCTA FX\"])\n",
    "ROBO_Market = pd.DataFrame(data =temp1[temp1[\"Broker\"]==\"ROBO Market\"])\n",
    "\n"
   ]
  },
  {
   "cell_type": "code",
   "execution_count": 22,
   "metadata": {},
   "outputs": [
    {
     "name": "stdout",
     "output_type": "stream",
     "text": [
      "        Date  Average_Bid                Broker  Rating  Foundation_Year  \\\n",
      "0 2020-11-11     1.188988                  SAXO     4.6             1992   \n",
      "1 2020-11-11     1.186538                  FXTM     4.2             2011   \n",
      "2 2020-11-11     1.185938                   XTB     4.8             2002   \n",
      "3 2020-11-11     1.185887              PLUS 500     4.1             2008   \n",
      "4 2020-11-11     1.185787            CMC Market     4.3             1989   \n",
      "5 2020-11-11     1.185667           PapperStone     4.4             2010   \n",
      "6 2020-11-11     1.184587             IC Market     3.9             2007   \n",
      "7 2020-11-11     1.183887               OCTA FX     4.3             2011   \n",
      "8 2020-11-11     1.176888  London Capital Group     4.5             1996   \n",
      "9 2020-11-11     1.161887           ROBO Market     3.9             2012   \n",
      "\n",
      "  MINIMUM Deposite                                                URL  \n",
      "0      $10,000.00   https://www.home.saxo/en-gb?dd_pm=none&dd_pm_c...  \n",
      "1          $10.00        https://ad.doubleclick.net/ddm/clk/447901603  \n",
      "2           $0.00   http://xtb.ck-cdn.com/tn/serve/geoGroup/?rgid=...  \n",
      "3         $100.00   https://www.plus500.com/?id=27689&tags=Plus500...  \n",
      "4           $0.00   https://www.cmcmarkets.com/en/?dd_pm=none&dd_p...  \n",
      "5         $200.00   https://pepperstone.com/en/?dd_pm=none&dd_pm_c...  \n",
      "6         $200.00            https://www.icmarkets.com/en/?camp=22749  \n",
      "7          $50.00        http://octaengine.com/c/?p=805&bt=gif&b=2368  \n",
      "8           $0.00   https://www.lcg.com/int/?dd_pm=none&dd_pm_cat=...  \n",
      "9         $100.00   https://my.robomarkets.com/en/register/?utm_so...  \n",
      "        Date  Average_Ask                Broker  Rating  Foundation_Year  \\\n",
      "0 2020-11-11     1.180338  London Capital Group     4.5             1996   \n",
      "1 2020-11-11     1.185858           PapperStone     4.4             2010   \n",
      "2 2020-11-11     1.186087              PLUS 500     4.1             2008   \n",
      "3 2020-11-11     1.186148                   XTB     4.8             2002   \n",
      "4 2020-11-11     1.186387               OCTA FX     4.3             2011   \n",
      "5 2020-11-11     1.186687             IC Market     3.9             2007   \n",
      "6 2020-11-11     1.187098                  FXTM     4.2             2011   \n",
      "7 2020-11-11     1.189141                  SAXO     4.6             1992   \n",
      "8 2020-11-11     1.191418            CMC Market     4.3             1989   \n",
      "9 2020-11-11     1.204087           ROBO Market     3.9             2012   \n",
      "\n",
      "  MINIMUM Deposite                                                URL  \n",
      "0           $0.00   https://www.lcg.com/int/?dd_pm=none&dd_pm_cat=...  \n",
      "1         $200.00   https://pepperstone.com/en/?dd_pm=none&dd_pm_c...  \n",
      "2         $100.00   https://www.plus500.com/?id=27689&tags=Plus500...  \n",
      "3           $0.00   http://xtb.ck-cdn.com/tn/serve/geoGroup/?rgid=...  \n",
      "4          $50.00        http://octaengine.com/c/?p=805&bt=gif&b=2368  \n",
      "5         $200.00            https://www.icmarkets.com/en/?camp=22749  \n",
      "6          $10.00        https://ad.doubleclick.net/ddm/clk/447901603  \n",
      "7      $10,000.00   https://www.home.saxo/en-gb?dd_pm=none&dd_pm_c...  \n",
      "8           $0.00   https://www.cmcmarkets.com/en/?dd_pm=none&dd_p...  \n",
      "9         $100.00   https://my.robomarkets.com/en/register/?utm_so...  \n"
     ]
    }
   ],
   "source": [
    "bid= temp[['Date','Average_Bid', 'Broker']]         \n",
    "bid = bid.sort_values(by=['Average_Bid'], ascending=False)\n",
    "# print(bid)\n",
    "bid1= bid.merge(Broker_Info, how='inner', left_on=['Broker'], right_on=['Broker'])\n",
    "print(bid1)\n",
    "\n",
    "\n",
    "\n",
    "ask = temp[['Date','Average_Ask', 'Broker']]\n",
    "ask=ask.sort_values(by=['Average_Ask'], ascending=True )\n",
    "ask1= ask.merge(Broker_Info, how='inner', left_on=['Broker'], right_on=['Broker'])\n",
    "print(ask1)"
   ]
  },
  {
   "cell_type": "code",
   "execution_count": null,
   "metadata": {},
   "outputs": [],
   "source": []
  }
 ],
 "metadata": {
  "kernelspec": {
   "display_name": "Python 3",
   "language": "python",
   "name": "python3"
  },
  "language_info": {
   "codemirror_mode": {
    "name": "ipython",
    "version": 3
   },
   "file_extension": ".py",
   "mimetype": "text/x-python",
   "name": "python",
   "nbconvert_exporter": "python",
   "pygments_lexer": "ipython3",
   "version": "3.8.5"
  }
 },
 "nbformat": 4,
 "nbformat_minor": 4
}
